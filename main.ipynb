{
 "cells": [
  {
   "cell_type": "code",
   "execution_count": 1,
   "metadata": {},
   "outputs": [
    {
     "name": "stderr",
     "output_type": "stream",
     "text": [
      "/Users/yuss/Documents/cours_m2/machineLearning/tp2/venv/lib/python3.11/site-packages/sklearn/datasets/_openml.py:1022: FutureWarning: The default value of `parser` will change from `'liac-arff'` to `'auto'` in 1.4. You can set `parser='auto'` to silence this warning. Therefore, an `ImportError` will be raised from 1.4 if the dataset is dense and pandas is not installed. Note that the pandas parser may return different data types. See the Notes Section in fetch_openml's API doc for details.\n",
      "  warn(\n"
     ]
    },
    {
     "name": "stdout",
     "output_type": "stream",
     "text": [
      "Dimensions de l'ensemble d'entraînement : (56000, 784)\n",
      "Dimensions de l'ensemble de test : (14000, 784)\n"
     ]
    }
   ],
   "source": [
    "import numpy as np\n",
    "from sklearn.datasets import fetch_openml\n",
    "from sklearn.model_selection import train_test_split\n",
    "\n",
    "# Charger les données MNIST\n",
    "mnist = fetch_openml('mnist_784', version=1, cache=True, as_frame=False)\n",
    "# Utilise la fonction fetch_openml de scikit-learn pour récupérer le jeu de données MNIST.\n",
    "# 'mnist_784' est le nom de la base de données sur OpenML contenant les images MNIST 28x28 pixels.\n",
    "# La version 1 est spécifiée, et les données ne sont pas mises en cache en mémoire (cache=True).\n",
    "# as_frame=False indique que les données ne seront pas renvoyées sous forme de DataFrame Pandas.\n",
    "\n",
    "mnist.target = mnist.target.astype(np.int8)\n",
    "# Convertit le type de données de la cible en entiers 8 bits (pour économiser de l'espace mémoire).\n",
    "\n",
    "# Mélanger les données\n",
    "X, y = mnist.data, mnist.target\n",
    "# X contient les images (caractéristiques), y contient les étiquettes (chiffres de 0 à 9).\n",
    "\n",
    "X_train, X_test, y_train, y_test = train_test_split(X, y, test_size=0.2, random_state=42)\n",
    "# Divise les données en ensembles d'entraînement et de test.\n",
    "# test_size=0.2 spécifie que 20% des données seront utilisées pour l'ensemble de test.\n",
    "# random_state=42 fixe la graine du générateur aléatoire pour assurer la reproductibilité.\n",
    "\n",
    "# Afficher les dimensions des ensembles d'entraînement et de test\n",
    "print(\"Dimensions de l'ensemble d'entraînement :\", X_train.shape)\n",
    "# Affiche le nombre de lignes (échantillons) et de colonnes (caractéristiques) de l'ensemble d'entraînement.\n",
    "\n",
    "print(\"Dimensions de l'ensemble de test :\", X_test.shape)\n",
    "# Affiche le nombre de lignes (échantillons) et de colonnes (caractéristiques) de l'ensemble de test.\n",
    "\n"
   ]
  },
  {
   "cell_type": "code",
   "execution_count": 2,
   "metadata": {},
   "outputs": [
    {
     "name": "stdout",
     "output_type": "stream",
     "text": [
      "Prédiction du modèle SGD pour l'image : [8]\n"
     ]
    }
   ],
   "source": [
    "import matplotlib as mpl\n",
    "import matplotlib.pyplot as plt\n",
    "from sklearn.linear_model import SGDClassifier\n",
    "\n",
    "# Choisissez le chiffre que vous souhaitez prédire (ici, 5)\n",
    "chosen_digit = 8\n",
    "\n",
    "# Créer une nouvelle variable cible binaire pour le chiffre choisi\n",
    "y_train_binary = (y_train == chosen_digit)\n",
    "y_test_binary = (y_test == chosen_digit)\n",
    "# Crée des variables binaires indiquant si chaque élément de y_train ou y_test est égal au chiffre choisi.\n",
    "\n",
    "\"\"\" # Initialiser le classificateur SGD\n",
    "sgd_clf = SGDClassifier(random_state=42)\n",
    "# Initialise un classificateur linéaire à descente de gradient stochastique (SGD).\n",
    "\n",
    "# Entraîner le classificateur sur l'ensemble d'entraînement binaire\n",
    "\n",
    "sgd_clf.fit(X_train, y_train_binary)\n",
    "# Entraîne le modèle sur l'ensemble d'entraînement binaire pour prédire si un chiffre est égal au chiffre choisi.\n",
    "\n",
    "# Tester la prédiction sur une image spécifique (par exemple, l'image à l'indice 24000)\n",
    "some_digit = X[24000]\n",
    "# Sélectionne une image spécifique du jeu de données.\n",
    "\n",
    "# Prédiction du modèle SGD pour l'image spécifique\n",
    "sgd_prediction = sgd_clf.predict([some_digit])\n",
    "# Utilise le modèle entraîné pour prédire si l'image spécifique représente le chiffre choisi.\n",
    "print(f\"Prédiction du modèle SGD pour l'image : {sgd_prediction}\")\n",
    "# Affiche la prédiction du modèle. \"\"\"\n",
    "\n",
    "# Initialiser le classificateur SGD pour la classification multiclasse\n",
    "sgd_clf_multiclass = SGDClassifier(random_state=42)\n",
    "# Initialise un classificateur linéaire à descente de gradient stochastique (SGD) pour la classification multiclasse.\n",
    "\n",
    "# Entraîner le classificateur sur l'ensemble d'entraînement multiclasse\n",
    "sgd_clf_multiclass.fit(X_train, y_train)\n",
    "# Entraîne le modèle sur l'ensemble d'entraînement multiclasse pour prédire le chiffre réel.\n",
    "\n",
    "# Tester la prédiction sur une image spécifique (par exemple, l'image à l'indice 24000)\n",
    "some_digit = X[24000]\n",
    "# Sélectionne une image spécifique du jeu de données.\n",
    "\n",
    "# Prédiction du modèle SGD pour la classification multiclasse\n",
    "sgd_prediction_multiclass = sgd_clf_multiclass.predict([some_digit])\n",
    "# Utilise le modèle entraîné pour prédire le chiffre représenté par l'image spécifique.\n",
    "print(f\"Prédiction du modèle SGD pour l'image : {sgd_prediction_multiclass}\")\n",
    "# Affiche la prédiction du modèle.\n"
   ]
  },
  {
   "cell_type": "code",
   "execution_count": 3,
   "metadata": {},
   "outputs": [
    {
     "name": "stdout",
     "output_type": "stream",
     "text": [
      "\n",
      "Performances du modèle SGD (Classification Multiclasse) :\n",
      "Précision : 0.880363811463317\n",
      "Rappel : 0.8717142857142857\n"
     ]
    }
   ],
   "source": [
    "from sklearn.metrics import precision_score, recall_score\n",
    "\n",
    "# Évaluer les performances du modèle avec les métriques de précision et de rappel\n",
    "\"\"\"\n",
    "y_test_pred = sgd_clf.predict(X_test)\n",
    "precision = precision_score(y_test_binary, y_test_pred)\n",
    "recall = recall_score(y_test_binary, y_test_pred)\n",
    "\n",
    "# Afficher les résultats\n",
    "print(f\"Précision : {precision}\")\n",
    "print(f\"Rappel : {recall}\")\n",
    "\"\"\"\n",
    "\n",
    "# Évaluer les performances du modèle SGD avec les métriques de précision et de rappel\n",
    "y_test_pred_multiclass_sgd = sgd_clf_multiclass.predict(X_test)\n",
    "# Utilise le modèle SGD multiclasse entraîné pour prédire les étiquettes sur l'ensemble de test.\n",
    "\n",
    "precision_sgd = precision_score(\n",
    "    y_test, y_test_pred_multiclass_sgd, average='weighted')\n",
    "# Calcule la précision en comparant les étiquettes réelles (y_test) avec les prédictions du modèle.\n",
    "# average='weighted' indique que la précision sera calculée en tenant compte du poids des différentes classes.\n",
    "\n",
    "recall_sgd = recall_score(\n",
    "    y_test, y_test_pred_multiclass_sgd, average='weighted')\n",
    "# Calcule le rappel en comparant les étiquettes réelles (y_test) avec les prédictions du modèle.\n",
    "# average='weighted' indique que le rappel sera calculé en tenant compte du poids des différentes classes.\n",
    "\n",
    "print(\"\\nPerformances du modèle SGD (Classification Multiclasse) :\")\n",
    "print(f\"Précision : {precision_sgd}\")\n",
    "# Affiche la précision du modèle pour la classification multiclasse.\n",
    "\n",
    "print(f\"Rappel : {recall_sgd}\")\n",
    "# Affiche le rappel du modèle pour la classification multiclasse.\n",
    "\n"
   ]
  },
  {
   "cell_type": "code",
   "execution_count": 4,
   "metadata": {},
   "outputs": [
    {
     "name": "stdout",
     "output_type": "stream",
     "text": [
      "Prédiction du modèle RandomForest pour l'image : [8]\n",
      "\n",
      "Performances du modèle RandomForest (Classification Multiclasse) :\n",
      "Précision : 0.9672867515335132\n",
      "Rappel : 0.9672857142857143\n"
     ]
    }
   ],
   "source": [
    "from sklearn.ensemble import RandomForestClassifier\n",
    "\n",
    "\"\"\"\n",
    "# Initialiser le classificateur RandomForest\n",
    "rf_clf = RandomForestClassifier(random_state=42)\n",
    "\n",
    "# Entraîner le classificateur RandomForest sur l'ensemble d'entraînement binaire\n",
    "rf_clf.fit(X_train, y_train_binary)\n",
    "\n",
    "# Prédiction du modèle RandomForest\n",
    "rf_prediction = rf_clf.predict([some_digit])\n",
    "print(f\"Prédiction du modèle RandomForest pour l'image : {rf_prediction}\")\n",
    "\"\"\"\n",
    "# Commentaires en mode commentaire multiligne pour désactiver l'exécution.\n",
    "\n",
    "# Initialiser le classificateur RandomForest pour la classification multiclasse\n",
    "rf_clf_multiclass = RandomForestClassifier(random_state=42)\n",
    "# Initialise un classificateur de forêt aléatoire pour la classification multiclasse.\n",
    "\n",
    "# Entraîner le classificateur RandomForest sur l'ensemble d'entraînement multiclasse\n",
    "rf_clf_multiclass.fit(X_train, y_train)\n",
    "# Entraîne le modèle sur l'ensemble d'entraînement multiclasse pour prédire le chiffre réel.\n",
    "\n",
    "# Prédiction du modèle RandomForest pour la classification multiclasse\n",
    "rf_prediction_multiclass = rf_clf_multiclass.predict([some_digit])\n",
    "# Utilise le modèle entraîné pour prédire le chiffre représenté par l'image spécifique.\n",
    "print(\n",
    "    f\"Prédiction du modèle RandomForest pour l'image : {rf_prediction_multiclass}\")\n",
    "\n",
    "# Évaluer les performances du modèle RandomForest avec les métriques de précision et de rappel\n",
    "y_test_pred_multiclass_rf = rf_clf_multiclass.predict(X_test)\n",
    "# Utilise le modèle RandomForest multiclasse entraîné pour prédire les étiquettes sur l'ensemble de test.\n",
    "\n",
    "precision_rf = precision_score(\n",
    "    y_test, y_test_pred_multiclass_rf, average='weighted')\n",
    "# Calcule la précision en comparant les étiquettes réelles (y_test) avec les prédictions du modèle.\n",
    "# average='weighted' indique que la précision sera calculée en tenant compte du poids des différentes classes.\n",
    "\n",
    "recall_rf = recall_score(y_test, y_test_pred_multiclass_rf, average='weighted')\n",
    "# Calcule le rappel en comparant les étiquettes réelles (y_test) avec les prédictions du modèle.\n",
    "# average='weighted' indique que le rappel sera calculé en tenant compte du poids des différentes classes.\n",
    "\n",
    "print(\"\\nPerformances du modèle RandomForest (Classification Multiclasse) :\")\n",
    "print(f\"Précision : {precision_rf}\")\n",
    "# Affiche la précision du modèle pour la classification multiclasse.\n",
    "\n",
    "print(f\"Rappel : {recall_rf}\")\n",
    "# Affiche le rappel du modèle pour la classification multiclasse.\n"
   ]
  },
  {
   "cell_type": "code",
   "execution_count": 5,
   "metadata": {},
   "outputs": [
    {
     "data": {
      "image/png": "[encoded data removed]",
      "text/plain": [
       "<Figure size 640x480 with 1 Axes>"
      ]
     },
     "metadata": {},
     "output_type": "display_data"
    }
   ],
   "source": [
    "some_digit_image = some_digit.reshape(28, 28)\n",
    "# Redimensionne l'image à plat (vecteur de longueur 784) en une matrice 28x28 pour la visualisation.\n",
    "\n",
    "plt.imshow(some_digit_image, cmap=mpl.cm.binary, interpolation=\"nearest\")\n",
    "# Affiche l'image en utilisant la fonction imshow de Matplotlib.\n",
    "# cmap=mpl.cm.binary indique que la colormap utilisée sera en noir et blanc.\n",
    "# interpolation=\"nearest\" spécifie la méthode d'interpolation pour afficher l'image.\n",
    "\n",
    "plt.axis(\"off\")\n",
    "# Désactive l'affichage des axes (pas de graduations).\n",
    "\n",
    "plt.show()\n",
    "# Affiche l'image.\n"
   ]
  },
  {
   "cell_type": "code",
   "execution_count": 6,
   "metadata": {},
   "outputs": [
    {
     "data": {
      "text/plain": [
       "' # Évaluer les performances du modèle SGD avec les métriques de précision et de rappel\\nsgd_precision = precision_score(y_test_binary, sgd_clf.predict(X_test))\\nsgd_recall = recall_score(y_test_binary, sgd_clf.predict(X_test))\\n\\n# Évaluer les performances du modèle RandomForest avec les métriques de précision et de rappel\\nrf_precision = precision_score(y_test_binary, rf_clf.predict(X_test))\\nrf_recall = recall_score(y_test_binary, rf_clf.predict(X_test))\\n\\n# Afficher les résultats\\nprint(\"\\nPerformances du modèle SGD :\")\\nprint(f\"Précision : {sgd_precision}\")\\nprint(f\"Rappel : {sgd_recall}\")\\n\\nprint(\"\\nPerformances du modèle RandomForest :\")\\nprint(f\"Précision : {rf_precision}\")\\nprint(f\"Rappel : {rf_recall}\")\\n '"
      ]
     },
     "execution_count": 6,
     "metadata": {},
     "output_type": "execute_result"
    }
   ],
   "source": [
    "\"\"\" # Évaluer les performances du modèle SGD avec les métriques de précision et de rappel\n",
    "sgd_precision = precision_score(y_test_binary, sgd_clf.predict(X_test))\n",
    "sgd_recall = recall_score(y_test_binary, sgd_clf.predict(X_test))\n",
    "\n",
    "# Évaluer les performances du modèle RandomForest avec les métriques de précision et de rappel\n",
    "rf_precision = precision_score(y_test_binary, rf_clf.predict(X_test))\n",
    "rf_recall = recall_score(y_test_binary, rf_clf.predict(X_test))\n",
    "\n",
    "# Afficher les résultats\n",
    "print(\"\\nPerformances du modèle SGD :\")\n",
    "print(f\"Précision : {sgd_precision}\")\n",
    "print(f\"Rappel : {sgd_recall}\")\n",
    "\n",
    "print(\"\\nPerformances du modèle RandomForest :\")\n",
    "print(f\"Précision : {rf_precision}\")\n",
    "print(f\"Rappel : {rf_recall}\")\n",
    " \"\"\""
   ]
  }
 ],
 "metadata": {
  "kernelspec": {
   "display_name": "Python 3",
   "language": "python",
   "name": "python3"
  },
  "language_info": {
   "codemirror_mode": {
    "name": "ipython",
    "version": 3
   },
   "file_extension": ".py",
   "mimetype": "text/x-python",
   "name": "python",
   "nbconvert_exporter": "python",
   "pygments_lexer": "ipython3",
   "version": "3.11.6"
  }
 },
 "nbformat": 4,
 "nbformat_minor": 2
}
