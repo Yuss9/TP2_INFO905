{
 "cells": [
  {
   "cell_type": "code",
   "execution_count": 32,
   "metadata": {},
   "outputs": [
    {
     "name": "stderr",
     "output_type": "stream",
     "text": [
      "/opt/homebrew/lib/python3.11/site-packages/sklearn/datasets/_openml.py:1022: FutureWarning: The default value of `parser` will change from `'liac-arff'` to `'auto'` in 1.4. You can set `parser='auto'` to silence this warning. Therefore, an `ImportError` will be raised from 1.4 if the dataset is dense and pandas is not installed. Note that the pandas parser may return different data types. See the Notes Section in fetch_openml's API doc for details.\n",
      "  warn(\n"
     ]
    },
    {
     "name": "stdout",
     "output_type": "stream",
     "text": [
      "Dimensions de l'ensemble d'entraînement : (56000, 784)\n",
      "Dimensions de l'ensemble de test : (14000, 784)\n"
     ]
    }
   ],
   "source": [
    "import numpy as np\n",
    "from sklearn.datasets import fetch_openml\n",
    "from sklearn.model_selection import train_test_split\n",
    "\n",
    "# Charger les données MNIST\n",
    "mnist = fetch_openml('mnist_784', version=1, cache=True, as_frame=False)\n",
    "mnist.target = mnist.target.astype(np.int8)\n",
    "\n",
    "# Mélanger les données\n",
    "X, y = mnist.data, mnist.target\n",
    "X_train, X_test, y_train, y_test = train_test_split(X, y, test_size=0.2, random_state=42)\n",
    "\n",
    "# Afficher les dimensions des ensembles d'entraînement et de test\n",
    "print(\"Dimensions de l'ensemble d'entraînement :\", X_train.shape)\n",
    "print(\"Dimensions de l'ensemble de test :\", X_test.shape)\n"
   ]
  },
  {
   "cell_type": "code",
   "execution_count": 33,
   "metadata": {},
   "outputs": [
    {
     "name": "stdout",
     "output_type": "stream",
     "text": [
      "Prédiction du modèle SGD pour l'image : [8]\n"
     ]
    }
   ],
   "source": [
    "import matplotlib as mpl\n",
    "import matplotlib.pyplot as plt\n",
    "from sklearn.linear_model import SGDClassifier\n",
    "\n",
    "\n",
    "# Choisissez le chiffre que vous souhaitez prédire (ici, 5)\n",
    "chosen_digit = 8\n",
    "\n",
    "# Créer une nouvelle variable cible binaire pour le chiffre choisi\n",
    "y_train_binary = (y_train == chosen_digit)\n",
    "y_test_binary = (y_test == chosen_digit)\n",
    "\n",
    "\"\"\" # Initialiser le classificateur SGD\n",
    "sgd_clf = SGDClassifier(random_state=42)\n",
    "\n",
    "# Entraîner le classificateur sur l'ensemble d'entraînement binaire\n",
    "sgd_clf.fit(X_train, y_train_binary)\n",
    "\n",
    "# Tester la prédiction sur une image spécifique (par exemple, l'image à l'indice 24000)\n",
    "some_digit = X[24000]\n",
    "# Prédiction du modèle SGD\n",
    "sgd_prediction = sgd_clf.predict([some_digit])\n",
    "print(f\"Prédiction du modèle SGD pour l'image : {sgd_prediction}\")\n",
    " \"\"\"\n",
    "\n",
    "# Initialiser le classificateur SGD pour la classification multiclasse\n",
    "sgd_clf_multiclass = SGDClassifier(random_state=42)\n",
    "\n",
    "# Entraîner le classificateur sur l'ensemble d'entraînement multiclasse\n",
    "sgd_clf_multiclass.fit(X_train, y_train)\n",
    "\n",
    "# Tester la prédiction sur une image spécifique (par exemple, l'image à l'indice 24000)\n",
    "some_digit = X[24000]\n",
    "\n",
    "# Prédiction du modèle SGD pour la classification multiclasse\n",
    "sgd_prediction_multiclass = sgd_clf_multiclass.predict([some_digit])\n",
    "print(f\"Prédiction du modèle SGD pour l'image : {sgd_prediction_multiclass}\")"
   ]
  },
  {
   "cell_type": "code",
   "execution_count": 34,
   "metadata": {},
   "outputs": [
    {
     "name": "stdout",
     "output_type": "stream",
     "text": [
      "\n",
      "Performances du modèle SGD (Classification Multiclasse) :\n",
      "Précision : 0.880363811463317\n",
      "Rappel : 0.8717142857142857\n"
     ]
    }
   ],
   "source": [
    "\n",
    "from sklearn.metrics import precision_score, recall_score\n",
    "\n",
    "# Évaluer les performances du modèle avec les métriques de précision et de rappel\n",
    "\"\"\" y_test_pred = sgd_clf.predict(X_test)\n",
    "precision = precision_score(y_test_binary, y_test_pred)\n",
    "recall = recall_score(y_test_binary, y_test_pred)\n",
    "\n",
    "# Afficher les résultats\n",
    "print(f\"Précision : {precision}\")\n",
    "print(f\"Rappel : {recall}\")\n",
    " \"\"\"\n",
    " \n",
    " \n",
    " # Évaluer les performances du modèle SGD avec les métriques de précision et de rappel\n",
    "y_test_pred_multiclass_sgd = sgd_clf_multiclass.predict(X_test)\n",
    "precision_sgd = precision_score(\n",
    "    y_test, y_test_pred_multiclass_sgd, average='weighted')\n",
    "recall_sgd = recall_score(\n",
    "    y_test, y_test_pred_multiclass_sgd, average='weighted')\n",
    "\n",
    "print(\"\\nPerformances du modèle SGD (Classification Multiclasse) :\")\n",
    "print(f\"Précision : {precision_sgd}\")\n",
    "print(f\"Rappel : {recall_sgd}\")\n"
   ]
  },
  {
   "cell_type": "code",
   "execution_count": 35,
   "metadata": {},
   "outputs": [
    {
     "name": "stdout",
     "output_type": "stream",
     "text": [
      "Prédiction du modèle RandomForest pour l'image : [8]\n",
      "\n",
      "Performances du modèle RandomForest (Classification Multiclasse) :\n",
      "Précision : 0.9672867515335132\n",
      "Rappel : 0.9672857142857143\n"
     ]
    }
   ],
   "source": [
    "from sklearn.ensemble import RandomForestClassifier\n",
    "\n",
    "\"\"\" # Initialiser le classificateur RandomForest\n",
    "rf_clf = RandomForestClassifier(random_state=42)\n",
    "\n",
    "# Entraîner le classificateur RandomForest sur l'ensemble d'entraînement binaire\n",
    "rf_clf.fit(X_train, y_train_binary)\n",
    "\n",
    "# Prédiction du modèle RandomForest\n",
    "rf_prediction = rf_clf.predict([some_digit])\n",
    "print(f\"Prédiction du modèle RandomForest pour l'image : {rf_prediction}\")\n",
    " \"\"\"\n",
    " \n",
    " \n",
    "\n",
    "# Initialiser le classificateur RandomForest pour la classification multiclasse\n",
    "rf_clf_multiclass = RandomForestClassifier(random_state=42)\n",
    "\n",
    "# Entraîner le classificateur RandomForest sur l'ensemble d'entraînement multiclasse\n",
    "rf_clf_multiclass.fit(X_train, y_train)\n",
    "\n",
    "# Prédiction du modèle RandomForest pour la classification multiclasse\n",
    "rf_prediction_multiclass = rf_clf_multiclass.predict([some_digit])\n",
    "print(\n",
    "    f\"Prédiction du modèle RandomForest pour l'image : {rf_prediction_multiclass}\")\n",
    "\n",
    "# Évaluer les performances du modèle RandomForest avec les métriques de précision et de rappel\n",
    "y_test_pred_multiclass_rf = rf_clf_multiclass.predict(X_test)\n",
    "precision_rf = precision_score(\n",
    "    y_test, y_test_pred_multiclass_rf, average='weighted')\n",
    "recall_rf = recall_score(y_test, y_test_pred_multiclass_rf, average='weighted')\n",
    "\n",
    "print(\"\\nPerformances du modèle RandomForest (Classification Multiclasse) :\")\n",
    "print(f\"Précision : {precision_rf}\")\n",
    "print(f\"Rappel : {recall_rf}\")"
   ]
  },
  {
   "cell_type": "code",
   "execution_count": 36,
   "metadata": {},
   "outputs": [
    {
     "data": {
      "image/png": "[encoded data removed]",
      "text/plain": [
       "<Figure size 640x480 with 1 Axes>"
      ]
     },
     "metadata": {},
     "output_type": "display_data"
    }
   ],
   "source": [
    "some_digit_image = some_digit.reshape(28, 28)\n",
    "plt.imshow(some_digit_image, cmap=mpl.cm.binary, interpolation=\"nearest\")\n",
    "plt.axis(\"off\")\n",
    "plt.show()"
   ]
  },
  {
   "cell_type": "code",
   "execution_count": 37,
   "metadata": {},
   "outputs": [
    {
     "data": {
      "text/plain": [
       "' # Évaluer les performances du modèle SGD avec les métriques de précision et de rappel\\nsgd_precision = precision_score(y_test_binary, sgd_clf.predict(X_test))\\nsgd_recall = recall_score(y_test_binary, sgd_clf.predict(X_test))\\n\\n# Évaluer les performances du modèle RandomForest avec les métriques de précision et de rappel\\nrf_precision = precision_score(y_test_binary, rf_clf.predict(X_test))\\nrf_recall = recall_score(y_test_binary, rf_clf.predict(X_test))\\n\\n# Afficher les résultats\\nprint(\"\\nPerformances du modèle SGD :\")\\nprint(f\"Précision : {sgd_precision}\")\\nprint(f\"Rappel : {sgd_recall}\")\\n\\nprint(\"\\nPerformances du modèle RandomForest :\")\\nprint(f\"Précision : {rf_precision}\")\\nprint(f\"Rappel : {rf_recall}\")\\n '"
      ]
     },
     "execution_count": 37,
     "metadata": {},
     "output_type": "execute_result"
    }
   ],
   "source": [
    "\"\"\" # Évaluer les performances du modèle SGD avec les métriques de précision et de rappel\n",
    "sgd_precision = precision_score(y_test_binary, sgd_clf.predict(X_test))\n",
    "sgd_recall = recall_score(y_test_binary, sgd_clf.predict(X_test))\n",
    "\n",
    "# Évaluer les performances du modèle RandomForest avec les métriques de précision et de rappel\n",
    "rf_precision = precision_score(y_test_binary, rf_clf.predict(X_test))\n",
    "rf_recall = recall_score(y_test_binary, rf_clf.predict(X_test))\n",
    "\n",
    "# Afficher les résultats\n",
    "print(\"\\nPerformances du modèle SGD :\")\n",
    "print(f\"Précision : {sgd_precision}\")\n",
    "print(f\"Rappel : {sgd_recall}\")\n",
    "\n",
    "print(\"\\nPerformances du modèle RandomForest :\")\n",
    "print(f\"Précision : {rf_precision}\")\n",
    "print(f\"Rappel : {rf_recall}\")\n",
    " \"\"\""
   ]
  }
 ],
 "metadata": {
  "kernelspec": {
   "display_name": "Python 3",
   "language": "python",
   "name": "python3"
  },
  "language_info": {
   "codemirror_mode": {
    "name": "ipython",
    "version": 3
   },
   "file_extension": ".py",
   "mimetype": "text/x-python",
   "name": "python",
   "nbconvert_exporter": "python",
   "pygments_lexer": "ipython3",
   "version": "3.11.5"
  }
 },
 "nbformat": 4,
 "nbformat_minor": 2
}
